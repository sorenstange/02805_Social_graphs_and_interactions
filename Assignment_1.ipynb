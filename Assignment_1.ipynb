{
 "cells": [
  {
   "cell_type": "markdown",
   "id": "47782df3",
   "metadata": {},
   "source": [
    "# 02805 Social graphs and interactions, Fall 20205 - Assignment 1"
   ]
  },
  {
   "cell_type": "code",
   "execution_count": null,
   "id": "7fb64d24",
   "metadata": {},
   "outputs": [],
   "source": [
    "#import all necessary libraries and modules\n",
    "import networkx as nx \n",
    "import matplotlib.pyplot as plt\n",
    "import numpy as np\n",
    "import pickle, requests, os, re"
   ]
  },
  {
   "cell_type": "markdown",
   "id": "31a91b0f",
   "metadata": {},
   "source": [
    "## Assignment 1.1: Exploring WS and BA models"
   ]
  },
  {
   "cell_type": "markdown",
   "id": "13684004",
   "metadata": {},
   "source": [
    "#### $\\textbf{Did you really read the text?}$"
   ]
  },
  {
   "cell_type": "markdown",
   "id": "50df5f8d",
   "metadata": {},
   "source": [
    "##### Question: What's the problem with random networks as a model for real-world networks according to the argument in section 3.5?\n",
    "\n",
    "Answer: In random networks the different nodes does not have a very large difference in the number of links to other nodes. This is in contrast to real world phenomena, where (in the social network for instance) we have some outliers who know many thousands of people, and some who do not know almost any. We are missing the big Hubs which connect a lot of people. This can be seen in chapter 3.5 Image 3.6, where the actual degree distribution of a real network, does not at all reflect the idealized version of the random network."
   ]
  },
  {
   "cell_type": "markdown",
   "id": "51a371a2",
   "metadata": {},
   "source": [
    "##### Question: List the four regimes that characterize random networks as a function of $<k>$.\n",
    "\n",
    "Answer: The four regimes that characterize random networks are: \n",
    "1) Subcritical Regime | Here the average degree of a node <k> < 1. This results in a network consisting of many tiny clusters. That is, a highly disconnected network of nodes. The largest cluster in this domain is roughly of size ln N\n",
    "2) Critical point | Here we have <k> = 1. This lead s to a significant jump in the size of the largest cluster in the network. We still don't have a giant component, however the largest cluster is rougly of size N^(2/3).\n",
    "3) Supercritical Regime | Here we have <k> > 1. In this regime we start to have giant component. The size of the largest component is roughly (p-1/N)N. In this regime we will have multiple connected components coexisting with the giant component.\n",
    "4) Connected Regime | Here we have <k> > ln N. In this regime the giant component absorbs all other nodes, leaving (almost) no isolated nodes."
   ]
  },
  {
   "cell_type": "markdown",
   "id": "ff81c55e",
   "metadata": {},
   "source": [
    "##### Question: According to the book, why is it a problem for random networks (in terms of being a model for real-world networks) that the degree-dependent clustering $C(k)$ decreases as a function of $k$ in real-world networks?\n",
    "\n",
    "Answer: Beacause in the random network we expect the culstering coefficient to decrease as N grows. This is in contrast to real networks where this decreases as a function of k. This means that the clustering coefficient in real networks are more or less independent of the size of the network size."
   ]
  },
  {
   "cell_type": "markdown",
   "id": "2ac3312e",
   "metadata": {},
   "source": [
    "#### $\\textbf{WS Edition}$"
   ]
  },
  {
   "cell_type": "markdown",
   "id": "94a3d60b",
   "metadata": {},
   "source": [
    "##### Question: First, let's use networkx to play around with WS graphs. Use nx.watts_strogatz_graph to generate 3 graphs with 500 nodes each, average degree = 4, and rewiring probablity $p=0, 0.1,$ and $1$. Calculate the average shortest path length $<d>$ for each one."
   ]
  },
  {
   "cell_type": "code",
   "execution_count": null,
   "id": "8063c165",
   "metadata": {},
   "outputs": [],
   "source": [
    "# Answer:\n",
    "### Insert code here"
   ]
  },
  {
   "cell_type": "markdown",
   "id": "79487e15",
   "metadata": {},
   "source": [
    "##### Question: Describe what happens to the network when $p=1$.\n",
    "\n",
    "Answer:"
   ]
  },
  {
   "cell_type": "markdown",
   "id": "f88b69ac",
   "metadata": {},
   "source": [
    "##### Question: Generate a lot of networks with different values of $p$. You will notice that paths are short when $p$ is close to one and they are long when $p=0$. What's the value of $p$ for which the average shortest path length get close to the short paths we find in a fully randomized network."
   ]
  },
  {
   "cell_type": "code",
   "execution_count": null,
   "id": "81bbf470",
   "metadata": {},
   "outputs": [],
   "source": [
    "# Answer:\n",
    "### Insert code here"
   ]
  },
  {
   "cell_type": "markdown",
   "id": "f6fa7ab2",
   "metadata": {},
   "source": [
    "##### Question: Let's investigate this behavior in detail. Generate 50 networks with $N = 500, <k> = 4$, for each of $p \\in \\left\\{ 0, 0.01, 0.03, 0.05, 0.1, 0.2\\right\\}$. Calculate the average of $<d>$ as well as the standard deviation over the 50 networks, to create a plot that shows how the path length decreases very quickly with only a little fraction of re-wiring. Use the standard deviation to add errorbars to the plot. My version of the plot is below (since a picture's worth 1000 words)."
   ]
  },
  {
   "cell_type": "code",
   "execution_count": null,
   "id": "4e6fa88f",
   "metadata": {},
   "outputs": [],
   "source": [
    "# Answer:\n",
    "### Insert code here"
   ]
  },
  {
   "cell_type": "markdown",
   "id": "2d958242",
   "metadata": {},
   "source": [
    "##### Question: Imagine that you put this plot in an assignment. Write a figure caption that explains to the reader what the plot shows (which variables, etc) and what's interesting about it.\n",
    "\n",
    "Answer:"
   ]
  },
  {
   "cell_type": "markdown",
   "id": "e25e08da",
   "metadata": {},
   "source": [
    "#### $\\textbf{BA Edition}$"
   ]
  },
  {
   "cell_type": "markdown",
   "id": "d4d7877e",
   "metadata": {},
   "source": [
    "##### Question: What are the three slope dependent regimes of complex networks with power-law degree distributions? Briefly describe each one. (You will have to skim chp 4.7 to answer this one).\n",
    "\n",
    "Answer:"
   ]
  },
  {
   "cell_type": "markdown",
   "id": "152255e5",
   "metadata": {},
   "source": [
    "##### Question: What are the three regimes we find in non-linear preferential attachement? (chapter 5) Briefly describe each one.\n",
    "\n",
    "Answer:"
   ]
  },
  {
   "cell_type": "markdown",
   "id": "3a903dc3",
   "metadata": {},
   "source": [
    "##### Question: First create a graph consisting of a single link. (You can call the nodes anything, but I would simply use integers as names)."
   ]
  },
  {
   "cell_type": "code",
   "execution_count": 7,
   "id": "b43bae4b",
   "metadata": {},
   "outputs": [],
   "source": [
    "# Answer:\n",
    "### Insert code here"
   ]
  },
  {
   "cell_type": "markdown",
   "id": "f70bca73",
   "metadata": {},
   "source": [
    "##### Question: Now add another node, connecting one of the existing nodes in proportion to their degree."
   ]
  },
  {
   "cell_type": "code",
   "execution_count": null,
   "id": "2e246cbf",
   "metadata": {},
   "outputs": [],
   "source": [
    "# Answer:\n",
    "### Insert code here"
   ]
  },
  {
   "cell_type": "markdown",
   "id": "7f13b68b",
   "metadata": {},
   "source": [
    "##### Question: Keep going until you have a 100 node network.\n",
    "Hint: The difficult part here is connecting to each node according to their degree. The way I do it is: generate a list of all edges (e.g. pairs of nodes), then flatten it (e.g. remove connection information). That list contains each node in proportion to its connections, thus drawing a random node from that list (e.g. using random.choice) corresponds to selecting a node with probability proportional to it's degree."
   ]
  },
  {
   "cell_type": "code",
   "execution_count": null,
   "id": "acd50b72",
   "metadata": {},
   "outputs": [],
   "source": [
    "# Answer:\n",
    "### Insert code here"
   ]
  },
  {
   "cell_type": "markdown",
   "id": "0db69617",
   "metadata": {},
   "source": [
    "##### Question: Plot the network."
   ]
  },
  {
   "cell_type": "code",
   "execution_count": null,
   "id": "271b550c",
   "metadata": {},
   "outputs": [],
   "source": [
    "# Answer:\n",
    "### Insert code here"
   ]
  },
  {
   "cell_type": "markdown",
   "id": "3d14b325",
   "metadata": {},
   "source": [
    "##### Question: Add more nodes until you have a 5000 node network."
   ]
  },
  {
   "cell_type": "code",
   "execution_count": null,
   "id": "d95d4367",
   "metadata": {},
   "outputs": [],
   "source": [
    "# Answer:\n",
    "### Insert code here"
   ]
  },
  {
   "cell_type": "markdown",
   "id": "7afdd82a",
   "metadata": {},
   "source": [
    "##### Question: What's the maximum and minimum degree?"
   ]
  },
  {
   "cell_type": "code",
   "execution_count": null,
   "id": "e4164784",
   "metadata": {},
   "outputs": [],
   "source": [
    "# Answer:\n",
    "### Insert code here"
   ]
  },
  {
   "cell_type": "markdown",
   "id": "13c9cfd1",
   "metadata": {},
   "source": [
    "##### Question: Now, bin the degree distribution using numpy.histogram.,"
   ]
  },
  {
   "cell_type": "code",
   "execution_count": null,
   "id": "ecd3a3bf",
   "metadata": {},
   "outputs": [],
   "source": [
    "# Answer:\n",
    "### Insert code here"
   ]
  },
  {
   "cell_type": "markdown",
   "id": "188a152d",
   "metadata": {},
   "source": [
    "##### Question: Plot the distribution. Plot it with both linear and log-log axes."
   ]
  },
  {
   "cell_type": "code",
   "execution_count": 6,
   "id": "3ab75c77",
   "metadata": {},
   "outputs": [],
   "source": [
    "# Answer:\n",
    "### Insert code here"
   ]
  },
  {
   "cell_type": "markdown",
   "id": "f4c24d79",
   "metadata": {},
   "source": [
    "#### $\\textbf{Explain your process in words}$"
   ]
  },
  {
   "cell_type": "markdown",
   "id": "6cfb1581",
   "metadata": {},
   "source": [
    "##### Question: Document how you crawled the network.\n",
    "Structure: First, simply describe the steps of the process (what you did, step by step)\n",
    "Then, write a short section about which part of the process that was most difficult\n",
    "Next write a short section about how you used LLMs to help you\n",
    "Finally, compose a short section about what you would do differently if you had to do it again\n",
    "\n",
    "Answer:"
   ]
  },
  {
   "cell_type": "markdown",
   "id": "d6977b87",
   "metadata": {},
   "source": [
    "#### $\\textbf{Simple network statistics and analysis}$"
   ]
  },
  {
   "cell_type": "code",
   "execution_count": null,
   "id": "246a7e25",
   "metadata": {},
   "outputs": [
    {
     "name": "stdout",
     "output_type": "stream",
     "text": [
      "File already exists. Skipping download.\n"
     ]
    }
   ],
   "source": [
    "# Download the data from github if not already downloaded\n",
    "filename = \"assignment_1_rock_bands.pkl\"\n",
    "\n",
    "url = \"https://raw.githubusercontent.com/sorenstange/02805_Social_graphs_and_interactions/main/assignment_1_rock_bands.pkl\"\n",
    "\n",
    "# Step 1: Check if file exists\n",
    "if not os.path.exists(filename):\n",
    "    # Download the file if it does not exist\n",
    "    response = requests.get(url)\n",
    "    if response.status_code == 200:\n",
    "        with open(filename, \"wb\") as f:\n",
    "            f.write(response.content)\n",
    "        print(\"File downloaded successfully.\")\n",
    "    else:\n",
    "        print(f\"Failed to download file. Status code: {response.status_code}\")\n",
    "else:\n",
    "    print(\"File already exists. Skipping download.\")\n",
    "\n",
    "# Step 2: Load the .pickle file\n",
    "with open(filename, \"rb\") as f:\n",
    "    data = pickle.load(f)"
   ]
  },
  {
   "cell_type": "code",
   "execution_count": null,
   "id": "cb4ec522",
   "metadata": {},
   "outputs": [],
   "source": [
    "# Declare helper functions\n",
    "def clean_links(links):\n",
    "    arr = []\n",
    "    for l in links:\n",
    "        match = re.search(r'|', l)\n",
    "        if match:\n",
    "            splits = l.split(r'|')\n",
    "            arr.append(splits[0].replace(' ', '_'))\n",
    "        else:\n",
    "            arr.append(l.replace(' ', '_'))\n",
    "    return arr\n",
    "\n",
    "def analyze_node(data_point):\n",
    "    Node = data_point['page_name']\n",
    "    text = data_point['content']\n",
    "    words = len(text.split())\n",
    "    links_to = re.findall(r'\\[\\[([^\\]]+)\\]\\]', text)\n",
    "    links_to = clean_links(links_to)\n",
    "    return Node, links_to, words\n",
    "\n",
    "def create_network(data):\n",
    "    G = nx.DiGraph()\n",
    "    Nodes = list(set([data_point['page_name'] for data_point in data]))\n",
    "    for data_point in data:\n",
    "        Node, links_to, words = analyze_node(data_point)\n",
    "        G.add_node(Node, words=words)\n",
    "        for links_to_node in links_to:\n",
    "            if links_to_node in Nodes:\n",
    "                G.add_edge(Node, links_to_node)\n",
    "    return G\n",
    "\n",
    "G = create_network(data)"
   ]
  },
  {
   "cell_type": "markdown",
   "id": "acc67e74",
   "metadata": {},
   "source": [
    "##### Question: What is the number of nodes in the network?"
   ]
  },
  {
   "cell_type": "code",
   "execution_count": null,
   "id": "1d1008df",
   "metadata": {},
   "outputs": [],
   "source": [
    "# Answer:\n",
    "print(f'A: There are {len(G.nodes())} nodes in the network.\\n')"
   ]
  },
  {
   "cell_type": "markdown",
   "id": "21643d01",
   "metadata": {},
   "source": [
    "##### Question: What is the number of links in the network?"
   ]
  },
  {
   "cell_type": "code",
   "execution_count": null,
   "id": "59230561",
   "metadata": {},
   "outputs": [],
   "source": [
    "# Answer:\n",
    "print(f'A: There are {len(G.edges())} links in the network.\\n')"
   ]
  },
  {
   "cell_type": "markdown",
   "id": "790ac4e9",
   "metadata": {},
   "source": [
    "##### Question: Plot the in and out-degree distributions for the entire network. What do you observe? Can you explain why the in-degree distribution is different from the out-degree distribution?"
   ]
  },
  {
   "cell_type": "code",
   "execution_count": null,
   "id": "ad0b3834",
   "metadata": {},
   "outputs": [],
   "source": [
    "# Answer:\n",
    "### Insert code here"
   ]
  },
  {
   "cell_type": "markdown",
   "id": "dca81f99",
   "metadata": {},
   "source": [
    "##### Question: Compare the out-degree distribution to a random network with the same number of nodes and links."
   ]
  },
  {
   "cell_type": "code",
   "execution_count": null,
   "id": "445fd16e",
   "metadata": {},
   "outputs": [],
   "source": [
    "# Answer:\n",
    "### Insert code here"
   ]
  },
  {
   "cell_type": "markdown",
   "id": "4cae8465",
   "metadata": {},
   "source": [
    "##### Question: Compare the in-degree distribution to a scale-free network with the same number of nodes."
   ]
  },
  {
   "cell_type": "code",
   "execution_count": null,
   "id": "a7406329",
   "metadata": {},
   "outputs": [],
   "source": [
    "# Answer:\n",
    "### Insert code here"
   ]
  },
  {
   "cell_type": "markdown",
   "id": "b7af4110",
   "metadata": {},
   "source": [
    "##### Question: Who are the top 5 most connected performers (Report results for in-degrees and out-degrees, that is, who has highest in-degree, who has highest out-degree)? Comment on your findings. Is this what you would have expected?"
   ]
  },
  {
   "cell_type": "code",
   "execution_count": null,
   "id": "0041dc69",
   "metadata": {},
   "outputs": [],
   "source": [
    "# Answer:\n",
    "### Insert code here"
   ]
  },
  {
   "cell_type": "markdown",
   "id": "6fccb457",
   "metadata": {},
   "source": [
    "##### Question: What are the 10 pages with the longest wiki entries? (use the length of content attribute to figure this one out)?"
   ]
  },
  {
   "cell_type": "code",
   "execution_count": null,
   "id": "e7315e00",
   "metadata": {},
   "outputs": [],
   "source": [
    "# Answer:\n",
    "### Insert code here"
   ]
  },
  {
   "cell_type": "markdown",
   "id": "71363fdb",
   "metadata": {},
   "source": [
    "#### Let's build a simple visualization of the network"
   ]
  },
  {
   "cell_type": "markdown",
   "id": "2f8ea38f",
   "metadata": {},
   "source": [
    "1. For the sake of the visualisation, let's convert our network to undirected graph (tip: There is a NetworkX command to help you).\n",
    "- Note: Keep the directed graph, we will use it in the following exercises.\n",
    "2. Use the NetworkX command nx.spring_layout or nx.draw_kamada_kawai to draw the resulting undirected network. (You can find background on the algorithms here.)\n",
    "- Set up your plot so that node-size depends on the node degree.\n",
    "- Make the node color depend on the length of content attribute. I recommend choosing a color scheme that is quite simple (e.g. the Sequential ones here: https://matplotlib.org/stable/users/explain/colors/colormaps.html)"
   ]
  },
  {
   "cell_type": "code",
   "execution_count": null,
   "id": "8534aaa2",
   "metadata": {},
   "outputs": [],
   "source": [
    "# Answer:\n",
    "### Insert code here"
   ]
  }
 ],
 "metadata": {
  "kernelspec": {
   "display_name": "autotrader",
   "language": "python",
   "name": "python3"
  },
  "language_info": {
   "codemirror_mode": {
    "name": "ipython",
    "version": 3
   },
   "file_extension": ".py",
   "mimetype": "text/x-python",
   "name": "python",
   "nbconvert_exporter": "python",
   "pygments_lexer": "ipython3",
   "version": "3.12.4"
  }
 },
 "nbformat": 4,
 "nbformat_minor": 5
}
