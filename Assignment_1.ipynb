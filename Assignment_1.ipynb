{
 "cells": [
  {
   "cell_type": "markdown",
   "id": "47782df3",
   "metadata": {},
   "source": [
    "# 02805 Social graphs and interactions, Fall 20205 - Assignment 1"
   ]
  },
  {
   "cell_type": "code",
   "execution_count": 9,
   "id": "7fb64d24",
   "metadata": {},
   "outputs": [],
   "source": [
    "import networkx as nx \n",
    "import matplotlib.pyplot as plt\n",
    "import numpy as np\n",
    "import pickle, requests, os, re"
   ]
  },
  {
   "cell_type": "markdown",
   "id": "31a91b0f",
   "metadata": {},
   "source": [
    "### Assignment 1.1: Exploring WS and BA models"
   ]
  },
  {
   "cell_type": "markdown",
   "id": "13684004",
   "metadata": {},
   "source": [
    "#### Did you really read the text?"
   ]
  },
  {
   "cell_type": "markdown",
   "id": "ff81c55e",
   "metadata": {},
   "source": [
    "- Q: What's the problem with random networks as a model for real-world networks according to the argument in section 3.5?\n",
    "\n",
    "A: XXX\n",
    "\n",
    "- Q: List the four regimes that characterize random networks as a function of $<k>$.\n",
    "\n",
    "A: XXX\n",
    "\n",
    "- Q: According to the book, why is it a problem for random networks (in terms of being a model for real-world networks) that the degree-dependent clustering $C(k)$ decreases as a function of $k$ in real-world networks?\n",
    "\n",
    "A: XXX"
   ]
  },
  {
   "cell_type": "markdown",
   "id": "2ac3312e",
   "metadata": {},
   "source": [
    "#### WS Edition"
   ]
  },
  {
   "cell_type": "markdown",
   "id": "94a3d60b",
   "metadata": {},
   "source": [
    "- Q: First, let's use networkx to play around with WS graphs. Use nx.watts_strogatz_graph to generate 3 graphs with 500 nodes each, average degree = 4, and rewiring probablity $p=0, 0.1,$ and $1$. Calculate the average shortest path length $<d>$ for each one."
   ]
  },
  {
   "cell_type": "markdown",
   "id": "79487e15",
   "metadata": {},
   "source": [
    "- Q: Describe what happens to the network when $p=1$."
   ]
  },
  {
   "cell_type": "markdown",
   "id": "f88b69ac",
   "metadata": {},
   "source": [
    "- Q: Generate a lot of networks with different values of $p$. You will notice that paths are short when $p$ is close to one and they are long when $p=0$. What's the value of $p$ for which the average shortest path length get close to the short paths we find in a fully randomized network."
   ]
  },
  {
   "cell_type": "markdown",
   "id": "f6fa7ab2",
   "metadata": {},
   "source": [
    "- Q: Let's investigate this behavior in detail. Generate 50 networks with $N = 500, <k> = 4$, for each of $p \\in \\left\\{ 0, 0.01, 0.03, 0.05, 0.1, 0.2\\right\\}$. Calculate the average of $<d>$ as well as the standard deviation over the 50 networks, to create a plot that shows how the path length decreases very quickly with only a little fraction of re-wiring. Use the standard deviation to add errorbars to the plot. My version of the plot is below (since a picture's worth 1000 words)."
   ]
  },
  {
   "cell_type": "markdown",
   "id": "2d958242",
   "metadata": {},
   "source": [
    "- Q: Imagine that you put this plot in an assignment. Write a figure caption that explains to the reader what the plot shows (which variables, etc) and what's interesting about it."
   ]
  },
  {
   "cell_type": "markdown",
   "id": "e25e08da",
   "metadata": {},
   "source": [
    "#### BA Edition"
   ]
  },
  {
   "cell_type": "markdown",
   "id": "152255e5",
   "metadata": {},
   "source": [
    "- Q: What are the three slope dependent regimes of complex networks with power-law degree distributions? Briefly describe each one. (You will have to skim chp 4.7 to answer this one).\n",
    "\n",
    "A: XXX\n",
    "\n",
    "- Q: What are the three regimes we find in non-linear preferential attachement? (chapter 5) Briefly describe each one.\n",
    "\n",
    "A: XXX"
   ]
  },
  {
   "cell_type": "markdown",
   "id": "7f13b68b",
   "metadata": {},
   "source": [
    "- Q: First create a graph consisting of a single link. (You can call the nodes anything, but I would simply use integers as names).\n",
    "\n",
    "- Q: Now add another node, connecting one of the existing nodes in proportion to their degree.\n",
    "\n",
    "- Q: Keep going until you have a 100 node network.\n",
    "Hint: The difficult part here is connecting to each node according to their degree. The way I do it is: generate a list of all edges (e.g. pairs of nodes), then flatten it (e.g. remove connection information). That list contains each node in proportion to its connections, thus drawing a random node from that list (e.g. using random.choice) corresponds to selecting a node with probability proportional to it's degree."
   ]
  },
  {
   "cell_type": "code",
   "execution_count": 10,
   "id": "acd50b72",
   "metadata": {},
   "outputs": [],
   "source": [
    "### Insert code here"
   ]
  },
  {
   "cell_type": "markdown",
   "id": "0db69617",
   "metadata": {},
   "source": [
    "- Q: Plot the network."
   ]
  },
  {
   "cell_type": "code",
   "execution_count": 11,
   "id": "271b550c",
   "metadata": {},
   "outputs": [],
   "source": [
    "### Insert code here"
   ]
  },
  {
   "cell_type": "markdown",
   "id": "8bd53a83",
   "metadata": {},
   "source": [
    "- Q: Add more nodes until you have a 5000 node network.\n",
    "- Q: What's the maximum and minimum degree?\n",
    "- Q: Now, bin the degree distribution using numpy.histogram.\n",
    "- Q: Plot the distribution. Plot it with both linear and log-log axes."
   ]
  },
  {
   "cell_type": "markdown",
   "id": "6ea67d11",
   "metadata": {},
   "source": [
    "### Assignment 1.2: Stats and visualization of the Rock Music Network"
   ]
  },
  {
   "cell_type": "markdown",
   "id": "f4c24d79",
   "metadata": {},
   "source": [
    "#### Explain your process in words"
   ]
  },
  {
   "cell_type": "markdown",
   "id": "6cfb1581",
   "metadata": {},
   "source": [
    "- Q: Document how you crawled the network.\n",
    "First, simply describe the steps of the process (what you did, step by step)\n",
    "Then, write a short section about which part of the process that was most difficult\n",
    "Next write a short section about how you used LLMs to help you\n",
    "Finally, compose a short section about what you would do differently if you had to do it again"
   ]
  },
  {
   "cell_type": "markdown",
   "id": "d6977b87",
   "metadata": {},
   "source": [
    "#### Simple network statistics and analysis"
   ]
  },
  {
   "cell_type": "code",
   "execution_count": 12,
   "id": "246a7e25",
   "metadata": {},
   "outputs": [
    {
     "name": "stdout",
     "output_type": "stream",
     "text": [
      "File already exists. Skipping download.\n"
     ]
    }
   ],
   "source": [
    "# DOWNLOAD THE DATA\n",
    "filename = \"assignment_1_rock_bands.pkl\"\n",
    "\n",
    "url = \"https://raw.githubusercontent.com/sorenstange/02805_Social_graphs_and_interactions/main/assignment_1_rock_bands.pkl\"\n",
    "\n",
    "# Step 1: Check if file exists\n",
    "if not os.path.exists(filename):\n",
    "    # Download the file if it does not exist\n",
    "    response = requests.get(url)\n",
    "    if response.status_code == 200:\n",
    "        with open(filename, \"wb\") as f:\n",
    "            f.write(response.content)\n",
    "        print(\"File downloaded successfully.\")\n",
    "    else:\n",
    "        print(f\"Failed to download file. Status code: {response.status_code}\")\n",
    "else:\n",
    "    print(\"File already exists. Skipping download.\")\n",
    "\n",
    "# Step 2: Load the .pickle file\n",
    "with open(filename, \"rb\") as f:\n",
    "    data = pickle.load(f)"
   ]
  },
  {
   "cell_type": "code",
   "execution_count": 20,
   "id": "cb4ec522",
   "metadata": {},
   "outputs": [],
   "source": [
    "def clean_links(links):\n",
    "    arr = []\n",
    "    for l in links:\n",
    "        match = re.search(r'|', l)\n",
    "        if match:\n",
    "            splits = l.split(r'|')\n",
    "            arr.append(splits[0].replace(' ', '_'))\n",
    "        else:\n",
    "            arr.append(l.replace(' ', '_'))\n",
    "    return arr\n",
    "\n",
    "def analyze_node(data_point):\n",
    "    Node = data_point['page_name']\n",
    "    text = data_point['content']\n",
    "    words = len(text.split())\n",
    "    links_to = re.findall(r'\\[\\[([^\\]]+)\\]\\]', text)\n",
    "    links_to = clean_links(links_to)\n",
    "    return Node, links_to, words\n",
    "\n",
    "def create_network(data):\n",
    "    G = nx.DiGraph()\n",
    "    Nodes = list(set([data_point['page_name'] for data_point in data]))\n",
    "    for data_point in data:\n",
    "        Node, links_to, words = analyze_node(data_point)\n",
    "        G.add_node(Node, words=words)\n",
    "        for links_to_node in links_to:\n",
    "            if links_to_node in Nodes:\n",
    "                G.add_edge(Node, links_to_node)\n",
    "    return G\n",
    "\n",
    "G = create_network(data)"
   ]
  },
  {
   "cell_type": "code",
   "execution_count": 21,
   "id": "31b0228b",
   "metadata": {},
   "outputs": [
    {
     "name": "stdout",
     "output_type": "stream",
     "text": [
      "Q: What is the number of nodes in the network?\n",
      "A: There are 489 nodes in the network.\n",
      "\n",
      "Q: What is the number of links in the network?\n",
      "A: There are 7678 links in the network.\n",
      "\n"
     ]
    }
   ],
   "source": [
    "print('Q: What is the number of nodes in the network?')\n",
    "print(f'A: There are {len(G.nodes())} nodes in the network.\\n')\n",
    "print('Q: What is the number of links in the network?')\n",
    "print(f'A: There are {len(G.edges())} links in the network.\\n')"
   ]
  },
  {
   "cell_type": "markdown",
   "id": "0ece7f8c",
   "metadata": {},
   "source": [
    "- Q: What is the number of nodes in the network?\n",
    "- Q: More importantly, what is the number of links? (Chat with a fellow student or a TA to make sure you're in the right ball-park)\n",
    "- Q: Plot the in and out-degree distributions for the entire network. What do you observe? Can you explain why the in-degree distribution is different from the out-degree distribution?\n",
    "- Q: Compare the out-degree distribution to a random network with the same number of nodes and links.\n",
    "- Q: Compare the in-degree distribution to a scale-free network with the same number of nodes.\n",
    "- Q: Who are the top 5 most connected performers (Report results for in-degrees and out-degrees, that is, who has highest in-degree, who has highest out-degree)? Comment on your findings. Is this what you would have expected?\n",
    "- Q: What are the 10 pages with the longest wiki entries? (use the length of content attribute to figure this one out)?"
   ]
  },
  {
   "cell_type": "markdown",
   "id": "71363fdb",
   "metadata": {},
   "source": [
    "#### Let's build a simple visualization of the network"
   ]
  },
  {
   "cell_type": "markdown",
   "id": "2f8ea38f",
   "metadata": {},
   "source": [
    "1. For the sake of the visualisation, let's convert our network to undirected graph (tip: There is a NetworkX command to help you).\n",
    "- Note: Keep the directed graph, we will use it in the following exercises.\n",
    "2. Use the NetworkX command nx.spring_layout or nx.draw_kamada_kawai to draw the resulting undirected network. (You can find background on the algorithms here.)\n",
    "- Set up your plot so that node-size depends on the node degree.\n",
    "- Make the node color depend on the length of content attribute. I recommend choosing a color scheme that is quite simple (e.g. the Sequential ones here: https://matplotlib.org/stable/users/explain/colors/colormaps.html)"
   ]
  },
  {
   "cell_type": "code",
   "execution_count": 15,
   "id": "8534aaa2",
   "metadata": {},
   "outputs": [],
   "source": [
    "### INSERT CODE HERE"
   ]
  }
 ],
 "metadata": {
  "kernelspec": {
   "display_name": "autotrader",
   "language": "python",
   "name": "python3"
  },
  "language_info": {
   "codemirror_mode": {
    "name": "ipython",
    "version": 3
   },
   "file_extension": ".py",
   "mimetype": "text/x-python",
   "name": "python",
   "nbconvert_exporter": "python",
   "pygments_lexer": "ipython3",
   "version": "3.12.3"
  }
 },
 "nbformat": 4,
 "nbformat_minor": 5
}
